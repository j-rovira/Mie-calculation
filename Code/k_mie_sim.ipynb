{
 "cells": [
  {
   "cell_type": "markdown",
   "id": "ee5c58c0",
   "metadata": {},
   "source": [
    "**K simulation with Mie Code for OA**"
   ]
  },
  {
   "cell_type": "markdown",
   "id": "5cffcff6",
   "metadata": {},
   "source": [
    "**Data preprocessing**\n",
    "- Data needed: babs_BrC_370, SMPS data\n",
    "- Data preprocessing required: averaged raw abs data to 30 min (also ACSM) & averaged 5-min data from SMPS to 30 min timestamps.\n",
    "- From SMPS, required: array with bin midpoint sizes for each site (varying size ranges with stations) and a dN/dlogDp table"
   ]
  },
  {
   "cell_type": "markdown",
   "id": "8bb1792c",
   "metadata": {},
   "source": [
    "**Code structure**\n",
    "- Create function (in separe io.py file) that does the minimization of the simulated vs measured babs. Function to minimize: RMSE.\n",
    "- Call the function itiretevaly for each timestamp\n",
    "- Create summary values and MAC/MAE ratio"
   ]
  },
  {
   "cell_type": "markdown",
   "id": "48fd8262",
   "metadata": {},
   "source": [
    "**Asumptions**\n",
    "- The SMPS PNSD is the one provided for **ALL** the particles, not only for the organics\n",
    "- Only the PNSD from the AMS would be the one that we could use for this method – in theory -> Discussion point to be talked with Marco, AMS PNSD data is needed"
   ]
  },
  {
   "cell_type": "markdown",
   "id": "8fc447e0",
   "metadata": {},
   "source": [
    "**Workload distribution**\n",
    "- Jesús:\n",
    "    - Send email to Marco about the AMS PNSD data\n",
    "    - Create io.py file with some functions to homogenize PNSD data files -> preprocessing stage\n",
    "    - Help with setting up/writing/debugging the mie code minimization\n",
    "- Jordi:\n",
    "    - Average to same 30 min all AE33 and PNSD data\n",
    "    - Start setting up/writing/debugging the mie code minimization"
   ]
  },
  {
   "cell_type": "markdown",
   "id": "6fc55e05",
   "metadata": {},
   "source": [
    "PNSD SMPS data already preprocessed:\n",
    "- DEM\n",
    "- KOS\n",
    "- MAR\n",
    "- ZUR\n",
    "- NOA\n",
    "- SIRTA is missing"
   ]
  }
 ],
 "metadata": {
  "language_info": {
   "name": "python"
  }
 },
 "nbformat": 4,
 "nbformat_minor": 5
}
